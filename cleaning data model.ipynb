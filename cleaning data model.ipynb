{
  "nbformat": 4,
  "nbformat_minor": 0,
  "metadata": {
    "colab": {
      "name": "Untitled0.ipynb",
      "provenance": [],
      "collapsed_sections": [],
      "toc_visible": true
    },
    "kernelspec": {
      "name": "python3",
      "display_name": "Python 3"
    },
    "language_info": {
      "name": "python"
    }
  },
  "cells": [
    {
      "cell_type": "code",
      "execution_count": null,
      "metadata": {
        "id": "r0FW9pdWbC-M"
      },
      "outputs": [],
      "source": [
        "import numpy as np\n",
        "import pandas as pd\n",
        "import matplotlib.pyplot as plt\n",
        "import numpy as np\n",
        "import seaborn as sns\n",
        "from sklearn.preprocessing import MinMaxScaler"
      ]
    },
    {
      "cell_type": "code",
      "source": [
        "df = pd.read_csv('kalimati_tarkari_dataset_cleaned.csv')"
      ],
      "metadata": {
        "id": "3i90nrcUblHd"
      },
      "execution_count": null,
      "outputs": []
    },
    {
      "cell_type": "code",
      "source": [
        "backup=df.copy()"
      ],
      "metadata": {
        "id": "J53866URhfk4"
      },
      "execution_count": null,
      "outputs": []
    },
    {
      "cell_type": "code",
      "source": [
        "df.head()"
      ],
      "metadata": {
        "colab": {
          "base_uri": "https://localhost:8080/",
          "height": 206
        },
        "id": "NJstUSwYbt5U",
        "outputId": "36e59ef6-039e-4a0f-fa65-97c2d6bb4f4d"
      },
      "execution_count": null,
      "outputs": [
        {
          "output_type": "execute_result",
          "data": {
            "text/html": [
              "<div>\n",
              "<style scoped>\n",
              "    .dataframe tbody tr th:only-of-type {\n",
              "        vertical-align: middle;\n",
              "    }\n",
              "\n",
              "    .dataframe tbody tr th {\n",
              "        vertical-align: top;\n",
              "    }\n",
              "\n",
              "    .dataframe thead th {\n",
              "        text-align: right;\n",
              "    }\n",
              "</style>\n",
              "<table border=\"1\" class=\"dataframe\">\n",
              "  <thead>\n",
              "    <tr style=\"text-align: right;\">\n",
              "      <th></th>\n",
              "      <th>SN</th>\n",
              "      <th>Commodity</th>\n",
              "      <th>Date</th>\n",
              "      <th>Unit</th>\n",
              "      <th>Minimum</th>\n",
              "      <th>Maximum</th>\n",
              "      <th>Average</th>\n",
              "    </tr>\n",
              "  </thead>\n",
              "  <tbody>\n",
              "    <tr>\n",
              "      <th>0</th>\n",
              "      <td>0</td>\n",
              "      <td>Tomato Big(Nepali)</td>\n",
              "      <td>2013-06-16</td>\n",
              "      <td>Kg</td>\n",
              "      <td>35.0</td>\n",
              "      <td>40.0</td>\n",
              "      <td>37.5</td>\n",
              "    </tr>\n",
              "    <tr>\n",
              "      <th>1</th>\n",
              "      <td>1</td>\n",
              "      <td>Tomato Small(Local)</td>\n",
              "      <td>2013-06-16</td>\n",
              "      <td>Kg</td>\n",
              "      <td>26.0</td>\n",
              "      <td>32.0</td>\n",
              "      <td>29.0</td>\n",
              "    </tr>\n",
              "    <tr>\n",
              "      <th>2</th>\n",
              "      <td>2</td>\n",
              "      <td>Potato Red</td>\n",
              "      <td>2013-06-16</td>\n",
              "      <td>Kg</td>\n",
              "      <td>20.0</td>\n",
              "      <td>21.0</td>\n",
              "      <td>20.5</td>\n",
              "    </tr>\n",
              "    <tr>\n",
              "      <th>3</th>\n",
              "      <td>3</td>\n",
              "      <td>Potato White</td>\n",
              "      <td>2013-06-16</td>\n",
              "      <td>Kg</td>\n",
              "      <td>15.0</td>\n",
              "      <td>16.0</td>\n",
              "      <td>15.5</td>\n",
              "    </tr>\n",
              "    <tr>\n",
              "      <th>4</th>\n",
              "      <td>4</td>\n",
              "      <td>Onion Dry (Indian)</td>\n",
              "      <td>2013-06-16</td>\n",
              "      <td>Kg</td>\n",
              "      <td>28.0</td>\n",
              "      <td>30.0</td>\n",
              "      <td>29.0</td>\n",
              "    </tr>\n",
              "  </tbody>\n",
              "</table>\n",
              "</div>"
            ],
            "text/plain": [
              "   SN            Commodity        Date Unit  Minimum  Maximum  Average\n",
              "0   0   Tomato Big(Nepali)  2013-06-16   Kg     35.0     40.0     37.5\n",
              "1   1  Tomato Small(Local)  2013-06-16   Kg     26.0     32.0     29.0\n",
              "2   2           Potato Red  2013-06-16   Kg     20.0     21.0     20.5\n",
              "3   3         Potato White  2013-06-16   Kg     15.0     16.0     15.5\n",
              "4   4   Onion Dry (Indian)  2013-06-16   Kg     28.0     30.0     29.0"
            ]
          },
          "metadata": {},
          "execution_count": 142
        }
      ]
    },
    {
      "cell_type": "code",
      "source": [
        "df.tail()"
      ],
      "metadata": {
        "colab": {
          "base_uri": "https://localhost:8080/",
          "height": 206
        },
        "id": "NJGeI19UEuTF",
        "outputId": "2e92d13f-44a3-46cc-97c2-85bf33e143a4"
      },
      "execution_count": null,
      "outputs": [
        {
          "output_type": "execute_result",
          "data": {
            "text/html": [
              "<div>\n",
              "<style scoped>\n",
              "    .dataframe tbody tr th:only-of-type {\n",
              "        vertical-align: middle;\n",
              "    }\n",
              "\n",
              "    .dataframe tbody tr th {\n",
              "        vertical-align: top;\n",
              "    }\n",
              "\n",
              "    .dataframe thead th {\n",
              "        text-align: right;\n",
              "    }\n",
              "</style>\n",
              "<table border=\"1\" class=\"dataframe\">\n",
              "  <thead>\n",
              "    <tr style=\"text-align: right;\">\n",
              "      <th></th>\n",
              "      <th>SN</th>\n",
              "      <th>Commodity</th>\n",
              "      <th>Date</th>\n",
              "      <th>Unit</th>\n",
              "      <th>Minimum</th>\n",
              "      <th>Maximum</th>\n",
              "      <th>Average</th>\n",
              "    </tr>\n",
              "  </thead>\n",
              "  <tbody>\n",
              "    <tr>\n",
              "      <th>197156</th>\n",
              "      <td>197156</td>\n",
              "      <td>Garlic Dry Nepali</td>\n",
              "      <td>2021-05-13</td>\n",
              "      <td>Kg</td>\n",
              "      <td>100.0</td>\n",
              "      <td>120.0</td>\n",
              "      <td>110.0</td>\n",
              "    </tr>\n",
              "    <tr>\n",
              "      <th>197157</th>\n",
              "      <td>197157</td>\n",
              "      <td>Fish Fresh(Rahu)</td>\n",
              "      <td>2021-05-13</td>\n",
              "      <td>KG</td>\n",
              "      <td>270.0</td>\n",
              "      <td>280.0</td>\n",
              "      <td>275.0</td>\n",
              "    </tr>\n",
              "    <tr>\n",
              "      <th>197158</th>\n",
              "      <td>197158</td>\n",
              "      <td>Fish Fresh(Bachuwa)</td>\n",
              "      <td>2021-05-13</td>\n",
              "      <td>KG</td>\n",
              "      <td>225.0</td>\n",
              "      <td>235.0</td>\n",
              "      <td>230.0</td>\n",
              "    </tr>\n",
              "    <tr>\n",
              "      <th>197159</th>\n",
              "      <td>197159</td>\n",
              "      <td>Fish Fresh(Chhadi)</td>\n",
              "      <td>2021-05-13</td>\n",
              "      <td>KG</td>\n",
              "      <td>220.0</td>\n",
              "      <td>230.0</td>\n",
              "      <td>225.0</td>\n",
              "    </tr>\n",
              "    <tr>\n",
              "      <th>197160</th>\n",
              "      <td>197160</td>\n",
              "      <td>Fish Fresh(Mungari)</td>\n",
              "      <td>2021-05-13</td>\n",
              "      <td>KG</td>\n",
              "      <td>240.0</td>\n",
              "      <td>250.0</td>\n",
              "      <td>245.0</td>\n",
              "    </tr>\n",
              "  </tbody>\n",
              "</table>\n",
              "</div>"
            ],
            "text/plain": [
              "            SN            Commodity        Date Unit  Minimum  Maximum  Average\n",
              "197156  197156    Garlic Dry Nepali  2021-05-13   Kg    100.0    120.0    110.0\n",
              "197157  197157     Fish Fresh(Rahu)  2021-05-13   KG    270.0    280.0    275.0\n",
              "197158  197158  Fish Fresh(Bachuwa)  2021-05-13   KG    225.0    235.0    230.0\n",
              "197159  197159   Fish Fresh(Chhadi)  2021-05-13   KG    220.0    230.0    225.0\n",
              "197160  197160  Fish Fresh(Mungari)  2021-05-13   KG    240.0    250.0    245.0"
            ]
          },
          "metadata": {},
          "execution_count": 143
        }
      ]
    },
    {
      "cell_type": "code",
      "source": [
        "df.columns"
      ],
      "metadata": {
        "colab": {
          "base_uri": "https://localhost:8080/"
        },
        "id": "7VN0W6vIExuz",
        "outputId": "8dbe0e1d-dabe-4ad1-e7df-e0b9d8ffa13d"
      },
      "execution_count": null,
      "outputs": [
        {
          "output_type": "execute_result",
          "data": {
            "text/plain": [
              "Index(['SN', 'Commodity', 'Date', 'Unit', 'Minimum', 'Maximum', 'Average'], dtype='object')"
            ]
          },
          "metadata": {},
          "execution_count": 144
        }
      ]
    },
    {
      "cell_type": "code",
      "source": [
        "df.shape"
      ],
      "metadata": {
        "colab": {
          "base_uri": "https://localhost:8080/"
        },
        "id": "urIWyWZCE4ez",
        "outputId": "94ccb6ef-a1e3-48b3-9200-411e34642400"
      },
      "execution_count": null,
      "outputs": [
        {
          "output_type": "execute_result",
          "data": {
            "text/plain": [
              "(197161, 7)"
            ]
          },
          "metadata": {},
          "execution_count": 145
        }
      ]
    },
    {
      "cell_type": "code",
      "source": [
        "df.describe()"
      ],
      "metadata": {
        "colab": {
          "base_uri": "https://localhost:8080/",
          "height": 300
        },
        "id": "kQt9GUj0E6n1",
        "outputId": "bdbc0e1d-7ac6-4313-cbb5-65ae3b9644e3"
      },
      "execution_count": null,
      "outputs": [
        {
          "output_type": "execute_result",
          "data": {
            "text/html": [
              "<div>\n",
              "<style scoped>\n",
              "    .dataframe tbody tr th:only-of-type {\n",
              "        vertical-align: middle;\n",
              "    }\n",
              "\n",
              "    .dataframe tbody tr th {\n",
              "        vertical-align: top;\n",
              "    }\n",
              "\n",
              "    .dataframe thead th {\n",
              "        text-align: right;\n",
              "    }\n",
              "</style>\n",
              "<table border=\"1\" class=\"dataframe\">\n",
              "  <thead>\n",
              "    <tr style=\"text-align: right;\">\n",
              "      <th></th>\n",
              "      <th>SN</th>\n",
              "      <th>Minimum</th>\n",
              "      <th>Maximum</th>\n",
              "      <th>Average</th>\n",
              "    </tr>\n",
              "  </thead>\n",
              "  <tbody>\n",
              "    <tr>\n",
              "      <th>count</th>\n",
              "      <td>197161.000000</td>\n",
              "      <td>197161.000000</td>\n",
              "      <td>197161.000000</td>\n",
              "      <td>197161.000000</td>\n",
              "    </tr>\n",
              "    <tr>\n",
              "      <th>mean</th>\n",
              "      <td>98580.000000</td>\n",
              "      <td>85.423938</td>\n",
              "      <td>94.161284</td>\n",
              "      <td>89.792611</td>\n",
              "    </tr>\n",
              "    <tr>\n",
              "      <th>std</th>\n",
              "      <td>56915.622549</td>\n",
              "      <td>77.058896</td>\n",
              "      <td>82.375858</td>\n",
              "      <td>79.619003</td>\n",
              "    </tr>\n",
              "    <tr>\n",
              "      <th>min</th>\n",
              "      <td>0.000000</td>\n",
              "      <td>1.000000</td>\n",
              "      <td>6.000000</td>\n",
              "      <td>5.000000</td>\n",
              "    </tr>\n",
              "    <tr>\n",
              "      <th>25%</th>\n",
              "      <td>49290.000000</td>\n",
              "      <td>40.000000</td>\n",
              "      <td>45.000000</td>\n",
              "      <td>42.500000</td>\n",
              "    </tr>\n",
              "    <tr>\n",
              "      <th>50%</th>\n",
              "      <td>98580.000000</td>\n",
              "      <td>60.000000</td>\n",
              "      <td>70.000000</td>\n",
              "      <td>65.000000</td>\n",
              "    </tr>\n",
              "    <tr>\n",
              "      <th>75%</th>\n",
              "      <td>147870.000000</td>\n",
              "      <td>100.000000</td>\n",
              "      <td>110.000000</td>\n",
              "      <td>105.000000</td>\n",
              "    </tr>\n",
              "    <tr>\n",
              "      <th>max</th>\n",
              "      <td>197160.000000</td>\n",
              "      <td>1800.000000</td>\n",
              "      <td>2000.000000</td>\n",
              "      <td>1900.000000</td>\n",
              "    </tr>\n",
              "  </tbody>\n",
              "</table>\n",
              "</div>"
            ],
            "text/plain": [
              "                  SN        Minimum        Maximum        Average\n",
              "count  197161.000000  197161.000000  197161.000000  197161.000000\n",
              "mean    98580.000000      85.423938      94.161284      89.792611\n",
              "std     56915.622549      77.058896      82.375858      79.619003\n",
              "min         0.000000       1.000000       6.000000       5.000000\n",
              "25%     49290.000000      40.000000      45.000000      42.500000\n",
              "50%     98580.000000      60.000000      70.000000      65.000000\n",
              "75%    147870.000000     100.000000     110.000000     105.000000\n",
              "max    197160.000000    1800.000000    2000.000000    1900.000000"
            ]
          },
          "metadata": {},
          "execution_count": 146
        }
      ]
    },
    {
      "cell_type": "code",
      "source": [
        "df.isnull().sum()"
      ],
      "metadata": {
        "colab": {
          "base_uri": "https://localhost:8080/"
        },
        "id": "cd6OMAa6FWk0",
        "outputId": "0121d87d-4dfc-4d8b-d390-123fcfee412e"
      },
      "execution_count": null,
      "outputs": [
        {
          "output_type": "execute_result",
          "data": {
            "text/plain": [
              "SN           0\n",
              "Commodity    0\n",
              "Date         0\n",
              "Unit         0\n",
              "Minimum      0\n",
              "Maximum      0\n",
              "Average      0\n",
              "dtype: int64"
            ]
          },
          "metadata": {},
          "execution_count": 147
        }
      ]
    },
    {
      "cell_type": "code",
      "source": [
        "df=df.dropna(axis=0)"
      ],
      "metadata": {
        "id": "S58v_HnWF1t8"
      },
      "execution_count": null,
      "outputs": []
    },
    {
      "cell_type": "code",
      "source": [
        "df.isnull().sum()"
      ],
      "metadata": {
        "colab": {
          "base_uri": "https://localhost:8080/"
        },
        "id": "Xg3MH6ZSF5b2",
        "outputId": "27f339b2-8d45-457e-a59a-989912d992b7"
      },
      "execution_count": null,
      "outputs": [
        {
          "output_type": "execute_result",
          "data": {
            "text/plain": [
              "SN           0\n",
              "Commodity    0\n",
              "Date         0\n",
              "Unit         0\n",
              "Minimum      0\n",
              "Maximum      0\n",
              "Average      0\n",
              "dtype: int64"
            ]
          },
          "metadata": {},
          "execution_count": 149
        }
      ]
    },
    {
      "cell_type": "code",
      "source": [
        "df.head()"
      ],
      "metadata": {
        "colab": {
          "base_uri": "https://localhost:8080/",
          "height": 206
        },
        "id": "82TI3Ca5GYjc",
        "outputId": "89130729-c624-41a5-f892-61aeea87ea24"
      },
      "execution_count": null,
      "outputs": [
        {
          "output_type": "execute_result",
          "data": {
            "text/html": [
              "<div>\n",
              "<style scoped>\n",
              "    .dataframe tbody tr th:only-of-type {\n",
              "        vertical-align: middle;\n",
              "    }\n",
              "\n",
              "    .dataframe tbody tr th {\n",
              "        vertical-align: top;\n",
              "    }\n",
              "\n",
              "    .dataframe thead th {\n",
              "        text-align: right;\n",
              "    }\n",
              "</style>\n",
              "<table border=\"1\" class=\"dataframe\">\n",
              "  <thead>\n",
              "    <tr style=\"text-align: right;\">\n",
              "      <th></th>\n",
              "      <th>SN</th>\n",
              "      <th>Commodity</th>\n",
              "      <th>Date</th>\n",
              "      <th>Unit</th>\n",
              "      <th>Minimum</th>\n",
              "      <th>Maximum</th>\n",
              "      <th>Average</th>\n",
              "    </tr>\n",
              "  </thead>\n",
              "  <tbody>\n",
              "    <tr>\n",
              "      <th>0</th>\n",
              "      <td>0</td>\n",
              "      <td>Tomato Big(Nepali)</td>\n",
              "      <td>2013-06-16</td>\n",
              "      <td>Kg</td>\n",
              "      <td>35.0</td>\n",
              "      <td>40.0</td>\n",
              "      <td>37.5</td>\n",
              "    </tr>\n",
              "    <tr>\n",
              "      <th>1</th>\n",
              "      <td>1</td>\n",
              "      <td>Tomato Small(Local)</td>\n",
              "      <td>2013-06-16</td>\n",
              "      <td>Kg</td>\n",
              "      <td>26.0</td>\n",
              "      <td>32.0</td>\n",
              "      <td>29.0</td>\n",
              "    </tr>\n",
              "    <tr>\n",
              "      <th>2</th>\n",
              "      <td>2</td>\n",
              "      <td>Potato Red</td>\n",
              "      <td>2013-06-16</td>\n",
              "      <td>Kg</td>\n",
              "      <td>20.0</td>\n",
              "      <td>21.0</td>\n",
              "      <td>20.5</td>\n",
              "    </tr>\n",
              "    <tr>\n",
              "      <th>3</th>\n",
              "      <td>3</td>\n",
              "      <td>Potato White</td>\n",
              "      <td>2013-06-16</td>\n",
              "      <td>Kg</td>\n",
              "      <td>15.0</td>\n",
              "      <td>16.0</td>\n",
              "      <td>15.5</td>\n",
              "    </tr>\n",
              "    <tr>\n",
              "      <th>4</th>\n",
              "      <td>4</td>\n",
              "      <td>Onion Dry (Indian)</td>\n",
              "      <td>2013-06-16</td>\n",
              "      <td>Kg</td>\n",
              "      <td>28.0</td>\n",
              "      <td>30.0</td>\n",
              "      <td>29.0</td>\n",
              "    </tr>\n",
              "  </tbody>\n",
              "</table>\n",
              "</div>"
            ],
            "text/plain": [
              "   SN            Commodity        Date Unit  Minimum  Maximum  Average\n",
              "0   0   Tomato Big(Nepali)  2013-06-16   Kg     35.0     40.0     37.5\n",
              "1   1  Tomato Small(Local)  2013-06-16   Kg     26.0     32.0     29.0\n",
              "2   2           Potato Red  2013-06-16   Kg     20.0     21.0     20.5\n",
              "3   3         Potato White  2013-06-16   Kg     15.0     16.0     15.5\n",
              "4   4   Onion Dry (Indian)  2013-06-16   Kg     28.0     30.0     29.0"
            ]
          },
          "metadata": {},
          "execution_count": 150
        }
      ]
    },
    {
      "cell_type": "code",
      "source": [
        "df1 = df[df.Commodity==\"Tomato Big(Nepali)\"].drop(columns='SN')"
      ],
      "metadata": {
        "id": "pqF19bIhEeKn"
      },
      "execution_count": null,
      "outputs": []
    },
    {
      "cell_type": "code",
      "source": [
        "df1.head()"
      ],
      "metadata": {
        "colab": {
          "base_uri": "https://localhost:8080/",
          "height": 206
        },
        "id": "_oxHmuWeE2_U",
        "outputId": "e500b911-c41d-4773-e068-d092cc663606"
      },
      "execution_count": null,
      "outputs": [
        {
          "output_type": "execute_result",
          "data": {
            "text/html": [
              "<div>\n",
              "<style scoped>\n",
              "    .dataframe tbody tr th:only-of-type {\n",
              "        vertical-align: middle;\n",
              "    }\n",
              "\n",
              "    .dataframe tbody tr th {\n",
              "        vertical-align: top;\n",
              "    }\n",
              "\n",
              "    .dataframe thead th {\n",
              "        text-align: right;\n",
              "    }\n",
              "</style>\n",
              "<table border=\"1\" class=\"dataframe\">\n",
              "  <thead>\n",
              "    <tr style=\"text-align: right;\">\n",
              "      <th></th>\n",
              "      <th>Commodity</th>\n",
              "      <th>Date</th>\n",
              "      <th>Unit</th>\n",
              "      <th>Minimum</th>\n",
              "      <th>Maximum</th>\n",
              "      <th>Average</th>\n",
              "    </tr>\n",
              "  </thead>\n",
              "  <tbody>\n",
              "    <tr>\n",
              "      <th>0</th>\n",
              "      <td>Tomato Big(Nepali)</td>\n",
              "      <td>2013-06-16</td>\n",
              "      <td>Kg</td>\n",
              "      <td>35.0</td>\n",
              "      <td>40.0</td>\n",
              "      <td>37.5</td>\n",
              "    </tr>\n",
              "    <tr>\n",
              "      <th>74</th>\n",
              "      <td>Tomato Big(Nepali)</td>\n",
              "      <td>2013-06-17</td>\n",
              "      <td>Kg</td>\n",
              "      <td>25.0</td>\n",
              "      <td>30.0</td>\n",
              "      <td>27.5</td>\n",
              "    </tr>\n",
              "    <tr>\n",
              "      <th>147</th>\n",
              "      <td>Tomato Big(Nepali)</td>\n",
              "      <td>2013-06-18</td>\n",
              "      <td>Kg</td>\n",
              "      <td>25.0</td>\n",
              "      <td>30.0</td>\n",
              "      <td>27.5</td>\n",
              "    </tr>\n",
              "    <tr>\n",
              "      <th>220</th>\n",
              "      <td>Tomato Big(Nepali)</td>\n",
              "      <td>2013-06-19</td>\n",
              "      <td>Kg</td>\n",
              "      <td>25.0</td>\n",
              "      <td>30.0</td>\n",
              "      <td>27.5</td>\n",
              "    </tr>\n",
              "    <tr>\n",
              "      <th>293</th>\n",
              "      <td>Tomato Big(Nepali)</td>\n",
              "      <td>2013-06-20</td>\n",
              "      <td>Kg</td>\n",
              "      <td>25.0</td>\n",
              "      <td>30.0</td>\n",
              "      <td>27.5</td>\n",
              "    </tr>\n",
              "  </tbody>\n",
              "</table>\n",
              "</div>"
            ],
            "text/plain": [
              "              Commodity        Date Unit  Minimum  Maximum  Average\n",
              "0    Tomato Big(Nepali)  2013-06-16   Kg     35.0     40.0     37.5\n",
              "74   Tomato Big(Nepali)  2013-06-17   Kg     25.0     30.0     27.5\n",
              "147  Tomato Big(Nepali)  2013-06-18   Kg     25.0     30.0     27.5\n",
              "220  Tomato Big(Nepali)  2013-06-19   Kg     25.0     30.0     27.5\n",
              "293  Tomato Big(Nepali)  2013-06-20   Kg     25.0     30.0     27.5"
            ]
          },
          "metadata": {},
          "execution_count": 152
        }
      ]
    },
    {
      "cell_type": "code",
      "source": [
        "df1.reset_index(drop=True)"
      ],
      "metadata": {
        "colab": {
          "base_uri": "https://localhost:8080/",
          "height": 423
        },
        "id": "ojkKg7fAFqnX",
        "outputId": "1086b065-b753-4e0c-9131-58e124ebf890"
      },
      "execution_count": null,
      "outputs": [
        {
          "output_type": "execute_result",
          "data": {
            "text/html": [
              "<div>\n",
              "<style scoped>\n",
              "    .dataframe tbody tr th:only-of-type {\n",
              "        vertical-align: middle;\n",
              "    }\n",
              "\n",
              "    .dataframe tbody tr th {\n",
              "        vertical-align: top;\n",
              "    }\n",
              "\n",
              "    .dataframe thead th {\n",
              "        text-align: right;\n",
              "    }\n",
              "</style>\n",
              "<table border=\"1\" class=\"dataframe\">\n",
              "  <thead>\n",
              "    <tr style=\"text-align: right;\">\n",
              "      <th></th>\n",
              "      <th>Commodity</th>\n",
              "      <th>Date</th>\n",
              "      <th>Unit</th>\n",
              "      <th>Minimum</th>\n",
              "      <th>Maximum</th>\n",
              "      <th>Average</th>\n",
              "    </tr>\n",
              "  </thead>\n",
              "  <tbody>\n",
              "    <tr>\n",
              "      <th>0</th>\n",
              "      <td>Tomato Big(Nepali)</td>\n",
              "      <td>2013-06-16</td>\n",
              "      <td>Kg</td>\n",
              "      <td>35.0</td>\n",
              "      <td>40.0</td>\n",
              "      <td>37.5</td>\n",
              "    </tr>\n",
              "    <tr>\n",
              "      <th>1</th>\n",
              "      <td>Tomato Big(Nepali)</td>\n",
              "      <td>2013-06-17</td>\n",
              "      <td>Kg</td>\n",
              "      <td>25.0</td>\n",
              "      <td>30.0</td>\n",
              "      <td>27.5</td>\n",
              "    </tr>\n",
              "    <tr>\n",
              "      <th>2</th>\n",
              "      <td>Tomato Big(Nepali)</td>\n",
              "      <td>2013-06-18</td>\n",
              "      <td>Kg</td>\n",
              "      <td>25.0</td>\n",
              "      <td>30.0</td>\n",
              "      <td>27.5</td>\n",
              "    </tr>\n",
              "    <tr>\n",
              "      <th>3</th>\n",
              "      <td>Tomato Big(Nepali)</td>\n",
              "      <td>2013-06-19</td>\n",
              "      <td>Kg</td>\n",
              "      <td>25.0</td>\n",
              "      <td>30.0</td>\n",
              "      <td>27.5</td>\n",
              "    </tr>\n",
              "    <tr>\n",
              "      <th>4</th>\n",
              "      <td>Tomato Big(Nepali)</td>\n",
              "      <td>2013-06-20</td>\n",
              "      <td>Kg</td>\n",
              "      <td>25.0</td>\n",
              "      <td>30.0</td>\n",
              "      <td>27.5</td>\n",
              "    </tr>\n",
              "    <tr>\n",
              "      <th>...</th>\n",
              "      <td>...</td>\n",
              "      <td>...</td>\n",
              "      <td>...</td>\n",
              "      <td>...</td>\n",
              "      <td>...</td>\n",
              "      <td>...</td>\n",
              "    </tr>\n",
              "    <tr>\n",
              "      <th>2502</th>\n",
              "      <td>Tomato Big(Nepali)</td>\n",
              "      <td>2021-05-05</td>\n",
              "      <td>Kg</td>\n",
              "      <td>40.0</td>\n",
              "      <td>50.0</td>\n",
              "      <td>45.0</td>\n",
              "    </tr>\n",
              "    <tr>\n",
              "      <th>2503</th>\n",
              "      <td>Tomato Big(Nepali)</td>\n",
              "      <td>2021-05-06</td>\n",
              "      <td>Kg</td>\n",
              "      <td>40.0</td>\n",
              "      <td>50.0</td>\n",
              "      <td>45.0</td>\n",
              "    </tr>\n",
              "    <tr>\n",
              "      <th>2504</th>\n",
              "      <td>Tomato Big(Nepali)</td>\n",
              "      <td>2021-05-07</td>\n",
              "      <td>Kg</td>\n",
              "      <td>40.0</td>\n",
              "      <td>50.0</td>\n",
              "      <td>45.0</td>\n",
              "    </tr>\n",
              "    <tr>\n",
              "      <th>2505</th>\n",
              "      <td>Tomato Big(Nepali)</td>\n",
              "      <td>2021-05-12</td>\n",
              "      <td>Kg</td>\n",
              "      <td>45.0</td>\n",
              "      <td>50.0</td>\n",
              "      <td>47.5</td>\n",
              "    </tr>\n",
              "    <tr>\n",
              "      <th>2506</th>\n",
              "      <td>Tomato Big(Nepali)</td>\n",
              "      <td>2021-05-13</td>\n",
              "      <td>Kg</td>\n",
              "      <td>45.0</td>\n",
              "      <td>50.0</td>\n",
              "      <td>47.5</td>\n",
              "    </tr>\n",
              "  </tbody>\n",
              "</table>\n",
              "<p>2507 rows × 6 columns</p>\n",
              "</div>"
            ],
            "text/plain": [
              "               Commodity        Date Unit  Minimum  Maximum  Average\n",
              "0     Tomato Big(Nepali)  2013-06-16   Kg     35.0     40.0     37.5\n",
              "1     Tomato Big(Nepali)  2013-06-17   Kg     25.0     30.0     27.5\n",
              "2     Tomato Big(Nepali)  2013-06-18   Kg     25.0     30.0     27.5\n",
              "3     Tomato Big(Nepali)  2013-06-19   Kg     25.0     30.0     27.5\n",
              "4     Tomato Big(Nepali)  2013-06-20   Kg     25.0     30.0     27.5\n",
              "...                  ...         ...  ...      ...      ...      ...\n",
              "2502  Tomato Big(Nepali)  2021-05-05   Kg     40.0     50.0     45.0\n",
              "2503  Tomato Big(Nepali)  2021-05-06   Kg     40.0     50.0     45.0\n",
              "2504  Tomato Big(Nepali)  2021-05-07   Kg     40.0     50.0     45.0\n",
              "2505  Tomato Big(Nepali)  2021-05-12   Kg     45.0     50.0     47.5\n",
              "2506  Tomato Big(Nepali)  2021-05-13   Kg     45.0     50.0     47.5\n",
              "\n",
              "[2507 rows x 6 columns]"
            ]
          },
          "metadata": {},
          "execution_count": 153
        }
      ]
    },
    {
      "cell_type": "code",
      "source": [
        "df1.rename(columns={'Average': 'Price'}, inplace=True)\n"
      ],
      "metadata": {
        "id": "ozDG1Unqjqke"
      },
      "execution_count": null,
      "outputs": []
    },
    {
      "cell_type": "code",
      "source": [
        "df1['Date'] = df1['Date'].str.replace('-','').astype(int)"
      ],
      "metadata": {
        "id": "I-_dqP8moD8M"
      },
      "execution_count": null,
      "outputs": []
    },
    {
      "cell_type": "code",
      "source": [
        "df1.to_csv('Tomato_cleaned_data.csv')"
      ],
      "metadata": {
        "id": "lJoZ6puSicFI"
      },
      "execution_count": null,
      "outputs": []
    },
    {
      "cell_type": "markdown",
      "source": [
        "**Model**"
      ],
      "metadata": {
        "id": "42lKdueOjPX8"
      }
    },
    {
      "cell_type": "code",
      "source": [
        "x=df1['Date']\n",
        "y=df1['Price']"
      ],
      "metadata": {
        "id": "2g8hV2K-jMSX"
      },
      "execution_count": null,
      "outputs": []
    },
    {
      "cell_type": "code",
      "source": [
        "len(x)\n",
        "len(y)"
      ],
      "metadata": {
        "colab": {
          "base_uri": "https://localhost:8080/"
        },
        "id": "6RC4-Rw1mKXk",
        "outputId": "0d61491d-2033-47b8-e9ad-873352c8892a"
      },
      "execution_count": null,
      "outputs": [
        {
          "output_type": "execute_result",
          "data": {
            "text/plain": [
              "2507"
            ]
          },
          "metadata": {},
          "execution_count": 158
        }
      ]
    },
    {
      "cell_type": "code",
      "source": [
        "from sklearn import linear_model\n",
        "from sklearn.metrics import mean_squared_error"
      ],
      "metadata": {
        "id": "AMOKMZpIj_BO"
      },
      "execution_count": null,
      "outputs": []
    },
    {
      "cell_type": "code",
      "source": [
        "x_train = x[:-2000].values.reshape(-1,1)"
      ],
      "metadata": {
        "id": "hLrtbTwlkw5P"
      },
      "execution_count": null,
      "outputs": []
    },
    {
      "cell_type": "code",
      "source": [
        "x_test = x[-500:].values.reshape(-1,1)"
      ],
      "metadata": {
        "id": "8ryankIbmUeF"
      },
      "execution_count": null,
      "outputs": []
    },
    {
      "cell_type": "code",
      "source": [
        "y_train = y[:-2000]"
      ],
      "metadata": {
        "id": "Pa20I91tmdxN"
      },
      "execution_count": null,
      "outputs": []
    },
    {
      "cell_type": "code",
      "source": [
        "y_test = y[-500:]"
      ],
      "metadata": {
        "id": "Hsf_tkvYmhTe"
      },
      "execution_count": null,
      "outputs": []
    },
    {
      "cell_type": "code",
      "source": [
        "model = linear_model.LinearRegression()"
      ],
      "metadata": {
        "id": "krsx-q8Omxbu"
      },
      "execution_count": null,
      "outputs": []
    },
    {
      "cell_type": "code",
      "source": [
        "model.fit(x_train,y_train)"
      ],
      "metadata": {
        "colab": {
          "base_uri": "https://localhost:8080/"
        },
        "id": "NtsozzWbm8x1",
        "outputId": "e0fc55ad-4038-4af6-d8f8-355ffb064567"
      },
      "execution_count": null,
      "outputs": [
        {
          "output_type": "execute_result",
          "data": {
            "text/plain": [
              "LinearRegression()"
            ]
          },
          "metadata": {},
          "execution_count": 165
        }
      ]
    },
    {
      "cell_type": "code",
      "source": [
        "y_predict = model.predict(x_test)"
      ],
      "metadata": {
        "id": "EHlafu5JsGEa"
      },
      "execution_count": null,
      "outputs": []
    },
    {
      "cell_type": "code",
      "source": [
        "print(\"Mean squared error is:\", mean_squared_error(y_test,y_predict))"
      ],
      "metadata": {
        "colab": {
          "base_uri": "https://localhost:8080/"
        },
        "id": "G8T39O6zsYXJ",
        "outputId": "8e71fdcc-4924-46bb-e3d6-a902bb9e353e"
      },
      "execution_count": null,
      "outputs": [
        {
          "output_type": "stream",
          "name": "stdout",
          "text": [
            "Mean squared error is: 10118.295550439976\n"
          ]
        }
      ]
    },
    {
      "cell_type": "code",
      "source": [
        "#visulaization"
      ],
      "metadata": {
        "id": "KKTNmGurFPOz"
      },
      "execution_count": null,
      "outputs": []
    }
  ]
}